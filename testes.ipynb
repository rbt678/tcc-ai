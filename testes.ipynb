{
 "cells": [
  {
   "cell_type": "code",
   "execution_count": 35,
   "metadata": {},
   "outputs": [],
   "source": [
    "import openai\n",
    "import os\n",
    "from docx import Document\n",
    "from chromadb import PersistentClient\n",
    "from chromadb.utils import embedding_functions\n",
    "from chromadb.config import Settings\n",
    "from spacy import load"
   ]
  },
  {
   "cell_type": "code",
   "execution_count": null,
   "metadata": {},
   "outputs": [],
   "source": [
    "# Separe os tokens em partes de max_tokens\n",
    "def separar_tokens(tokens, max_tokens):\n",
    "    lista_nova = []\n",
    "    posicao = 0\n",
    "    posicao_old = 0\n",
    "    contador = 0\n",
    "\n",
    "    while posicao < len(tokens)-1:\n",
    "        contador+=1\n",
    "        tcks = tokens[posicao_old:max_tokens*contador]\n",
    "        for i, x in enumerate(tcks):\n",
    "            if x == \"\\n\" or i == len(tcks) -1:\n",
    "                posicao = i + posicao_old\n",
    "        lista_nova.append(tokens[posicao_old:posicao])\n",
    "        posicao_old = posicao\n",
    "\n",
    "    return lista_nova\n",
    "\n",
    "def separar_sentencas(textos):\n",
    "    nlp = load(\"pt_core_news_lg\")\n",
    "    docs = [nlp(t) for t in textos]\n",
    "    sentencas = []\n",
    "    for doc in docs:\n",
    "        tokens = []\n",
    "        for token in doc:\n",
    "            if not token.is_stop and not token.is_punct:\n",
    "                tokens.append(token.lemma_)\n",
    "        sentencas.append(\" \".join(tokens))\n",
    "    return sentencas"
   ]
  },
  {
   "cell_type": "code",
   "execution_count": 43,
   "metadata": {},
   "outputs": [],
   "source": [
    "def ler_arquivo(caminho:str) -> str:\n",
    "    try:\n",
    "        with open(caminho, \"r\") as file:\n",
    "            return file.read().strip()\n",
    "    except FileNotFoundError:\n",
    "        print(f\"O arquivo '{caminho}' não foi encontrado.\")\n",
    "        return \"\"\n",
    "    \n",
    "def separar_sentencas(textos) -> list[str]:\n",
    "    nlp = load(\"pt_core_news_lg\")\n",
    "    docs = [nlp(t) for t in textos]\n",
    "    sentencas = []\n",
    "    for doc in docs:\n",
    "        tokens = []\n",
    "        for token in doc:\n",
    "            if not token.is_stop and not token.is_punct:\n",
    "                tokens.append(token.lemma_)\n",
    "        sentencas.append(\" \".join(tokens))\n",
    "    return sentencas\n",
    "    \n",
    "def preprocessar_docx(doc, tradutor=None) -> list[str]:\n",
    "        documento = '\\n'.join(parag.text for parag in doc.paragraphs)\n",
    "        textos = documento.split(\"####\")\n",
    "        textos = separar_sentencas(textos)\n",
    "\n",
    "        if tradutor:\n",
    "            textos_traduzidos = []\n",
    "            for doc in textos:\n",
    "                textos_traduzidos.append(tradutor(doc)[\"response\"][\"choices\"][0][\"message\"][\"content\"])\n",
    "            \n",
    "            return textos_traduzidos\n",
    "        else:\n",
    "            return textos"
   ]
  },
  {
   "cell_type": "code",
   "execution_count": 24,
   "metadata": {},
   "outputs": [
    {
     "data": {
      "text/plain": [
       "['Sobre a Clínica\\nA Clínica Dente Saudável foi fundada em 2015 e é especializada em odontologia Preventiva.\\nEstamos localizados na R. Dr. Joaquim de Souza Campos Júnior, 145 - Bonfim, Campinas - SP, 13070-718.\\nNosso horário de atendimento é de segunda a sexta, das 8h às 18h, e aos sábados das 8h ao meio-dia.\\nAceitamos os planos odontológicos Uniodonto, Sorridente e Saúde Bucal.\\n\\n',\n",
       " '\\n\\nEspecialidades\\n•\\tDentística - tratamentos como restaurações, clareamento dental, aparelho ortodôntico.\\n•\\tPeriodontia - tratamento de gengivite, periodontite e doenças na gengiva.\\n•\\tEndodontia - tratamentos de canal.\\n•\\tOdontopediatria - odontologia focada no público infantil.\\n',\n",
       " '\\n\\nProcedimentos\\n•\\tConsulta inicial\\n•\\tLimpeza\\n•\\tRestauração dentária\\n•\\tRaspagem supragengival e subgengival\\n•\\tFacetas dentais\\n•\\tClareamento dental\\n•\\tAparelho ortodôntico\\n•\\tCirurgias orais menores\\n•\\tExtrações dentárias simples e complexas\\n•\\tTratamento de canal\\n',\n",
       " '\\n\\nSobre o Consultório\\nNosso consultório conta com 5 modernas salas de atendimento equipadas com tecnologia de ponta. Temos foco em técnicas minimamente invasivas e humanizadas.\\nOferecemos TV com streaming em cada sala para conforto dos pacientes. Nossa equipe é composta por 5 dentistas especialistas, 3 auxiliares e 2 recepcionistas treinados para lhe receber com eficiência e cortesia.\\n']"
      ]
     },
     "execution_count": 24,
     "metadata": {},
     "output_type": "execute_result"
    }
   ],
   "source": [
    "doc = Document(\"documentos/Clinica dente saudavel.docx\")\n",
    "preprocessar_docx(doc)"
   ]
  },
  {
   "cell_type": "code",
   "execution_count": 48,
   "metadata": {},
   "outputs": [],
   "source": [
    "class ChromaDBManager:\n",
    "    def __init__(self, path:str, collection_name:str, ef):\n",
    "        self.client = PersistentClient(path=path, settings=Settings(allow_reset=True))\n",
    "        self.collection = self.client.get_or_create_collection(name=collection_name, embedding_function=ef)\n",
    "    \n",
    "    def get_max_id(self) -> int:\n",
    "        ids_str = self.collection.get()[\"ids\"]\n",
    "        \n",
    "        return max([int(num) for num in ids_str]) + 1 if ids_str else 0\n",
    "\n",
    "    def ler_todos_docxs(self, path:str, tradutor=None) -> list[str]:\n",
    "        sentences = []\n",
    "\n",
    "        for filename in os.listdir(path):\n",
    "            if filename.endswith(\".docx\"):\n",
    "                doc = Document(os.path.join(path, filename))\n",
    "                preprocess = preprocessar_docx(doc, tradutor)\n",
    "                sentences.extend(preprocess)\n",
    "\n",
    "        if sentences==[]:\n",
    "            print(\"Não há arquivos .docx na pasta\")\n",
    "            return False\n",
    "        \n",
    "        sentences_ids = [str(i) for i in range(len(sentences))]\n",
    "        self.collection.add(documents=sentences, ids=sentences_ids)\n",
    "\n",
    "    def query(self, query_texts:str, n_results:int = 5) -> dict:\n",
    "        return self.collection.query(query_texts=query_texts, n_results=n_results)"
   ]
  },
  {
   "cell_type": "code",
   "execution_count": 49,
   "metadata": {},
   "outputs": [],
   "source": [
    "class Assistant:\n",
    "    def __init__(self, nome_da_empresa:str, api_key_path:str = \"credentials/apiKey\", pasta_database:str = \"dataBase\", colecao:str = \"colecao1\"):\n",
    "        self.nome_da_empresa = nome_da_empresa\n",
    "        self.pasta_database = pasta_database\n",
    "        self.colecao = colecao\n",
    "        self.openai_api_key = ler_arquivo(api_key_path)\n",
    "        self.historico_atual = []\n",
    "        self.openai_ef = embedding_functions.OpenAIEmbeddingFunction(api_key=self.openai_api_key, model_name=\"text-embedding-ada-002\")\n",
    "        self.db_manager = ChromaDBManager(path=pasta_database, collection_name=colecao, ef=self.openai_ef)\n",
    "\n",
    "    def enviar_gpt(self, system_role:str, database:str, quest:str, collection_response) -> dict:\n",
    "        openai.api_key = self.openai_api_key\n",
    "\n",
    "        historico = self.historico_atual[-20:]\n",
    "        historico_string = \"\"\n",
    "        for dict in historico:\n",
    "            if dict[\"role\"] == \"user\":\n",
    "                historico_string += f\"User: {dict['content']}\\n\"\n",
    "            if dict[\"role\"] == \"assistant\":\n",
    "                historico_string += f\"Assistant: {dict['content']}\\n\"\n",
    "\n",
    "        historico_string = separar_sentencas([historico_string])\n",
    "\n",
    "        prompt = [\n",
    "            {\"role\": \"system\", \"content\": system_role},\n",
    "            {\"role\": \"user\", \"content\": f\"'database':\\n###\\n{database}\\n###\\n\\n 'historico':\\n###\\n{historico_string}\\n###\\n\\n Pergunta do usuário: {quest}\\n\"}\n",
    "        ]\n",
    "\n",
    "        response = openai.ChatCompletion.create(\n",
    "            model=\"gpt-3.5-turbo\",\n",
    "            messages=prompt,\n",
    "            temperature=0.6,\n",
    "            max_tokens=150,\n",
    "            top_p=1,\n",
    "            frequency_penalty=0,\n",
    "            presence_penalty=0.1\n",
    "        )\n",
    "        \n",
    "        return {'response': response, 'prompt': prompt, 'collection_response': collection_response}\n",
    "    \n",
    "    def gpt_tradutor_en(self, pergunta:str) -> dict:\n",
    "        openai.api_key = self.openai_api_key\n",
    "        prompt=[{\"role\": \"system\",\"content\": \"Por favor traduza para o inglês tudo que o usuário enviar. E se o usuário enviar algo em inglês repita exatamente o que ele disse.\"},\n",
    "                {\"role\": \"user\",\"content\": \"I like guarana, and you?\"},\n",
    "                {\"role\": \"assistant\",\"content\": \"I like guarana, and you?\"},\n",
    "                {\"role\": \"user\",\"content\": \"O que é ChromaDB?\"},\n",
    "                {\"role\": \"assistant\",\"content\": \"What is ChromaDB?\"},\n",
    "                {\"role\": \"user\",\"content\": pergunta}]\n",
    "\n",
    "        response = openai.ChatCompletion.create(\n",
    "            model=\"gpt-3.5-turbo\",\n",
    "            messages=prompt,\n",
    "            temperature=0.5,\n",
    "            max_tokens=100,\n",
    "            top_p=1,\n",
    "            frequency_penalty=1,\n",
    "            presence_penalty=0\n",
    "        )\n",
    "\n",
    "        return {'response': response, 'prompt': prompt}\n",
    "\n",
    "    def query(self, pergunta:str, traduzir:bool=False) -> dict:\n",
    "        if traduzir:\n",
    "            pergunta_eng = self.gpt_tradutor_en(pergunta=pergunta)[\"response\"][\"choices\"][0][\"message\"][\"content\"]\n",
    "            \n",
    "        collection_response = self.db_manager.query(query_texts= pergunta if not traduzir else pergunta_eng, n_results=5)\n",
    "        collection_database = collection_response[\"documents\"][0]\n",
    "        system_role = (\n",
    "            f\"Você é um assistente inteligente, educado e dedicado da {self.nome_da_empresa}, que responde perguntas do usuário. \"\n",
    "            \"Você possui 'dataBase' para buscar informações e 'historico' para lembrar da conversa com o usuário. \"\n",
    "            \"Se você não souber como responder o usuário, responda com: 'Infelizmente essa informação não está na minha base de dados.' \"\n",
    "            \"Você deve responder usando um máximo de 150 tokens. \"\n",
    "            \"Agora, com base nos seguintes dados, responda a pergunta do usuário: \"\n",
    "        )\n",
    "\n",
    "        return self.enviar_gpt(system_role=system_role, database=collection_database, quest=pergunta, collection_response=collection_response)\n",
    "    \n",
    "    def atualizar_documentos(self, traduzir:bool = False):\n",
    "        print(\"\\nResetando cliente...\")\n",
    "        self.db_manager.client.reset()\n",
    "        print(\"\\nCliente resetado.\")\n",
    "        \n",
    "        print(\"\\nAtualizando cliente...\")\n",
    "        self.db_manager = ChromaDBManager(path=self.pasta_database, collection_name=self.colecao, ef=self.openai_ef)\n",
    "        print(\"\\nCliente atualizado.\")\n",
    "        \n",
    "        print(\"\\nLendo todos os documentos...\")\n",
    "        self.db_manager.ler_todos_docxs(\"documentos\", self.gpt_tradutor_en if traduzir else None)\n",
    "        print(\"\\nDocumentos atualizados.\")\n",
    "\n",
    "\n",
    "    def salvar_historico_atual(self, historico):\n",
    "        self.historico_atual.extend(historico)"
   ]
  },
  {
   "cell_type": "code",
   "execution_count": 50,
   "metadata": {},
   "outputs": [],
   "source": [
    "cliente = PersistentClient(path=\"dataBase\")\n",
    "\n",
    "assistente = Assistant(nome_da_empresa=\"Clinica Dente Saudavel\")\n",
    "# chroma = ChromaDBManager(\"dataBase\", \"colecao2\")\n",
    "# chroma2 = ChromaDBManager(\"dataBase\", \"colecao1\")"
   ]
  },
  {
   "cell_type": "code",
   "execution_count": 39,
   "metadata": {},
   "outputs": [
    {
     "name": "stdout",
     "output_type": "stream",
     "text": [
      "\n",
      "Resetando cliente...\n",
      "\n",
      "Cliente resetado.\n",
      "\n",
      "Atualizando cliente...\n",
      "\n",
      "Cliente atualizado.\n",
      "\n",
      "Lendo todos os documentos...\n",
      "\n",
      "Documentos atualizados.\n"
     ]
    }
   ],
   "source": [
    "assistente.atualizar_documentos(traduzir=False)"
   ]
  },
  {
   "cell_type": "code",
   "execution_count": 51,
   "metadata": {},
   "outputs": [
    {
     "data": {
      "text/plain": [
       "{'ids': ['0', '1', '2', '3'],\n",
       " 'embeddings': None,\n",
       " 'metadatas': [None, None, None, None],\n",
       " 'documents': ['Clínica \\n Clínica Dente Saudável fundar 2015 especializar odontologia Preventiva \\n estar localizado R. Dr. Joaquim Souza Campos Júnior 145 Bonfim Campinas SP 13070-718 \\n horário atendimento 8h 18h sábado 8h meio-dia \\n Aceitamos plano odontológico Uniodonto Sorridente Saúde Bucal \\n\\n',\n",
       "  '\\n\\n Especialidades \\n \\t Dentística tratamento restauração clareamento dental aparelho ortodôntico \\n \\t periodontia tratamento gengivite periodontite doença gengiva \\n \\t Endodontia tratamento canal \\n \\t Odontopediatria odontologia focar público infantil \\n',\n",
       "  '\\n\\n Procedimentos \\n \\t consulta inicial \\n \\t Limpeza \\n \\t restauração dentário \\n \\t Raspagem supragengival subgengival \\n \\t Facetas dentais \\n \\t Clareamento dental \\n \\t aparelho ortodôntico \\n \\t cirurgia oral pequeno \\n \\t Extrações dentário simples complexo \\n \\t tratamento canal \\n',\n",
       "  '\\n\\n Consultório \\n consultório contar 5 moderno sala atendimento equipar tecnologia ponta foco técnica minimamente invasivo humanizar \\n Oferecemos tv streaming sala conforto paciente equipe compor 5 dentista especialista 3 auxiliar 2 recepcionista treinar receber eficiência cortesia \\n']}"
      ]
     },
     "execution_count": 51,
     "metadata": {},
     "output_type": "execute_result"
    }
   ],
   "source": [
    "assistente.db_manager.collection.get()"
   ]
  },
  {
   "cell_type": "code",
   "execution_count": 32,
   "metadata": {},
   "outputs": [
    {
     "data": {
      "text/plain": [
       "{'ids': [['1', '3']],\n",
       " 'distances': [[0.40760153661377624, 0.4114927757845372]],\n",
       " 'metadatas': [[None, None]],\n",
       " 'embeddings': None,\n",
       " 'documents': [['\\n\\n Especialidades \\n \\t Dentística tratamento restauração clareamento dental aparelho ortodôntico \\n \\t periodontia tratamento gengivite periodontite doença gengiva \\n \\t Endodontia tratamento canal \\n \\t Odontopediatria odontologia focar público infantil \\n',\n",
       "   '\\n\\n Consultório \\n consultório contar 5 moderno sala atendimento equipar tecnologia ponta foco técnica minimamente invasivo humanizar \\n Oferecemos tv streaming sala conforto paciente equipe compor 5 dentista especialista 3 auxiliar 2 recepcionista treinar receber eficiência cortesia \\n']]}"
      ]
     },
     "execution_count": 32,
     "metadata": {},
     "output_type": "execute_result"
    }
   ],
   "source": [
    "assistente.db_manager.collection.query(query_texts=\"Novidades?\", n_results=2)"
   ]
  },
  {
   "cell_type": "code",
   "execution_count": 58,
   "metadata": {},
   "outputs": [
    {
     "name": "stderr",
     "output_type": "stream",
     "text": [
      "Number of requested results 5 is greater than number of elements in index 4, updating n_results = 4\n"
     ]
    },
    {
     "data": {
      "text/plain": [
       "[{'role': 'user', 'content': 'Qual é a melhor para tratar cárie?'},\n",
       " {'role': 'assistant',\n",
       "  'content': 'A melhor especialidade para tratar cárie é a Dentística, que realiza o tratamento de restauração dentária.'},\n",
       " {'role': 'user', 'content': 'Fica longe de Mogi Mirim?'},\n",
       " {'role': 'assistant',\n",
       "  'content': 'A Clínica Dente Saudável está localizada em Campinas, SP. Portanto, fica um pouco distante de Mogi Mirim.'},\n",
       " {'role': 'user', 'content': 'Quanto tempo mais ou menos?'},\n",
       " {'role': 'assistant',\n",
       "  'content': 'Infelizmente, não tenho informações suficientes para responder a sua pergunta.'}]"
      ]
     },
     "execution_count": 58,
     "metadata": {},
     "output_type": "execute_result"
    }
   ],
   "source": [
    "pergunta = \"Quanto tempo mais ou menos?\"\n",
    "process_return = assistente.query(pergunta)\n",
    "dict_historico = [\n",
    "            {\"role\": \"user\",\"content\": pergunta},\n",
    "            {\"role\": \"assistant\",\"content\": process_return[\"response\"][\"choices\"][0][\"message\"][\"content\"]}\n",
    "        ]\n",
    "assistente.salvar_historico_atual(dict_historico)\n",
    "assistente.historico_atual"
   ]
  },
  {
   "cell_type": "code",
   "execution_count": 61,
   "metadata": {},
   "outputs": [
    {
     "data": {
      "text/plain": [
       "'User: Qual é a melhor para tratar cárie?\\nAssistant: A melhor especialidade para tratar cárie é a Dentística, que realiza o tratamento de restauração dentária.\\nUser: Fica longe de Mogi Mirim?\\nAssistant: A Clínica Dente Saudável está localizada em Campinas, SP. Portanto, fica um pouco distante de Mogi Mirim.\\nUser: Quanto tempo mais ou menos?\\nAssistant: Infelizmente, não tenho informações suficientes para responder a sua pergunta.\\n'"
      ]
     },
     "execution_count": 61,
     "metadata": {},
     "output_type": "execute_result"
    }
   ],
   "source": [
    "historico = assistente.historico_atual[-20:]\n",
    "historico_string = \"\"\n",
    "for dict in historico:\n",
    "    if dict[\"role\"] == \"user\":\n",
    "        historico_string += f\"User: {dict['content']}\\n\"\n",
    "    if dict[\"role\"] == \"assistant\":\n",
    "        historico_string += f\"Assistant: {dict['content']}\\n\"\n",
    "\n",
    "historico_string"
   ]
  },
  {
   "cell_type": "code",
   "execution_count": 62,
   "metadata": {},
   "outputs": [
    {
     "data": {
      "text/plain": [
       "['User bom tratar cárie \\n Assistant bom especialidade tratar cárie Dentística realizar tratamento restauração dentário \\n User ficar Mogi Mirim \\n Assistant Clínica Dente Saudável localizado Campinas SP ficar distante Mogi Mirim \\n User \\n Assistant infelizmente informação suficiente responder pergunta \\n']"
      ]
     },
     "execution_count": 62,
     "metadata": {},
     "output_type": "execute_result"
    }
   ],
   "source": [
    "separar_sentencas([historico_string])"
   ]
  }
 ],
 "metadata": {
  "kernelspec": {
   "display_name": ".venv",
   "language": "python",
   "name": "python3"
  },
  "language_info": {
   "codemirror_mode": {
    "name": "ipython",
    "version": 3
   },
   "file_extension": ".py",
   "mimetype": "text/x-python",
   "name": "python",
   "nbconvert_exporter": "python",
   "pygments_lexer": "ipython3",
   "version": "3.11.2"
  },
  "orig_nbformat": 4
 },
 "nbformat": 4,
 "nbformat_minor": 2
}
